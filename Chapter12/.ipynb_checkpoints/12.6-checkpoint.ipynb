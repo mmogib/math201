{
 "cells": [
  {
   "attachments": {},
   "cell_type": "markdown",
   "metadata": {},
   "source": [
    "# 12.6 Cylinders and Quadric Surfaces\n",
    "\n",
    "\n",
    "## Cylinders:\n",
    "A __cylinder__ is a surface that consists of all lines (called rulings) that are parallel to a given line and pass through a given plane curve.\n",
    "\n",
    "### Example:\n",
    "Identify ans Sketch the surfaces\n",
    "1. $x^2+y^2=1$ (____circular cylinder__)\n",
    "2. $z = x^2$ (__parabolic cylinder__)\n",
    "\n",
    "## Quadratic Surfaces\n",
    "A quadric surface is the graph of a second-degree equation in three variables $x, y$, and $z$. The most general such equation is\n",
    "\\\\[\n",
    "Ax^2+By^2+Cz^2+Dxy+Eyz+Fxz+Gx+Hy+Iz+J =0\n",
    "\\\\]\n",
    "where $A,B,C,…, J$  are constants, but by translation and rotation it can be brought into one of the two standard forms\n",
    "\\\\[\n",
    "Ax^2+By^2+Cz^2+J =0 \\quad \\text{or} \\quad Ax^2+By^2+Cz^2+Iz =0\n",
    "\\\\]\n",
    "\n",
    "\n",
    "### Examples\n",
    "Use traces to sketch the surfaces \n",
    "1. $x^2+\\frac{y^2}{9}+\\frac{z^2}{4}=1$\n",
    "2. $z=y^2-x^2$\n",
    "\n",
    "### Graphs of Quadratic Surfaces\n",
    "![Quadratic Surfaces](./quadratic_surfaces.png)\n",
    "\n",
    "\n",
    "### Example\n",
    "Identify and sketch the surface\n",
    "\n",
    "$$\n",
    "4x^2-y^2+2z^2+4=0\n",
    "$$"
   ]
  },
  {
   "cell_type": "code",
   "execution_count": null,
   "metadata": {},
   "outputs": [],
   "source": []
  }
 ],
 "metadata": {
  "kernelspec": {
   "display_name": "Julia 1.0.0",
   "language": "julia",
   "name": "julia-1.0"
  },
  "language_info": {
   "file_extension": ".jl",
   "mimetype": "application/julia",
   "name": "julia",
   "version": "1.0.0"
  }
 },
 "nbformat": 4,
 "nbformat_minor": 2
}
