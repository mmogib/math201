{
 "cells": [
  {
   "cell_type": "markdown",
   "metadata": {},
   "source": [
    "# 12.1 Three-Dimensional (3D) Coordinate Systems\n",
    "\n",
    "- __Right-hand rule__ : to determine the direction of the $z-$axis.\n",
    "- __Coordinate planes__\n",
    "- __octants__\n",
    "- __Projection of a point__\n",
    "- __Three dimensional coordinate system__: $\\mathbb{R}\\times\\mathbb{R}\\times\\mathbb{R}=\\mathbb{R}^3 = \\{(x,y,z): x,y,z\\in \\mathbb{R}\\}$\n",
    "\n",
    "## Surfaces\n",
    "An equation in $x,y$ and $z$ is called a __surface__.\n",
    "### Example 1:\n",
    "What surfaces are\n",
    "1. z=5,\n",
    "2. x=-4\n",
    "\n",
    "### Example 2:\n",
    "Describe and sketch the region in $\\mathbb{R}^3$ that satisfy \n",
    "1. $x^2+y^2=1$,  $z=4$\n",
    "2. $x^2+y^2=1$.\n",
    "3. $x+y=2$.\n",
    "\n",
    "## Distance and Spheres\n",
    "\n",
    "### Distnace Formula:\n",
    "The distance $|P_1P_2|$ between the points $P_1(x_1,y_1,z_1)$ and $P_2(x_2,y_2,z_2)$ is\n",
    "$$\n",
    "\\left|P_1P_2\\right| =\\sqrt{(x_2-x_1)^2+(y_2-y_1)^2+(z_2-z_1)^2}\n",
    "$$\n",
    "\n",
    "### Equation of a Sphere\n",
    "An equation of a sphere with center $C(h,k,l)$ and radius $r$ is\n",
    "$$\n",
    "(x-h)^2+(y-k)^2+(z-l)^2=r^2\n",
    "$$\n",
    "\n",
    "### Example (Ex. 19)\n",
    "Show that the equation $3x^2+3y^2+3z^2=10+6y+12z$ represents a sphere, and find its\n",
    "center and radius."
   ]
  },
  {
   "cell_type": "code",
   "execution_count": null,
   "metadata": {},
   "outputs": [],
   "source": []
  }
 ],
 "metadata": {
  "kernelspec": {
   "display_name": "Python 3",
   "language": "python",
   "name": "python3"
  },
  "language_info": {
   "codemirror_mode": {
    "name": "ipython",
    "version": 3
   },
   "file_extension": ".py",
   "mimetype": "text/x-python",
   "name": "python",
   "nbconvert_exporter": "python",
   "pygments_lexer": "ipython3",
   "version": "3.6.4"
  }
 },
 "nbformat": 4,
 "nbformat_minor": 2
}
