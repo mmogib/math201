{
 "cells": [
  {
   "cell_type": "markdown",
   "metadata": {},
   "source": [
    "# 12.3 The Dot Product\n",
    "If ${\\bf a}=\\langle a_1, a_2, a_3\\rangle$ and ${\\bf b}=\\langle b_1, b_2, b_3\\rangle$, then the __dot product__ of ${\\bf a}$ and ${\\bf b}$ is the number ${\\bf a}\\cdot {\\bf b}$ given by\n",
    "$$\n",
    "{\\bf a}\\cdot {\\bf b} =a_1b_1+a_2b_2+a_3b_3\n",
    "$$\n",
    "\n",
    "### Example \n",
    "Find \n",
    "* $\\langle 1, 3\\rangle \\cdot \\langle 2, -3\\rangle$ \n",
    "* $\\langle -1, 3, 2\\rangle \\cdot \\langle 5, 2, -3\\rangle$ \n",
    "\n",
    "## Properties\n",
    "![Properties of Inner Product](./inner_product_props.png)\n",
    "\n",
    "## Geometric Interpretation\n",
    "![Geometric Interpretation](./geometric_interpretation.png)\n",
    "\n",
    "### Example \n",
    "Find ${\\bf a}\\cdot {\\bf b}$ if $|{\\bf a}|=80$ , $|{\\bf b}|=50$ and the angle between ${\\bf a}$ and ${\\bf b}$ is $3\\pi/4$."
   ]
  },
  {
   "cell_type": "code",
   "execution_count": null,
   "metadata": {},
   "outputs": [],
   "source": []
  }
 ],
 "metadata": {
  "kernelspec": {
   "display_name": "Julia 0.7.0-rc3",
   "language": "julia",
   "name": "julia-0.7"
  },
  "language_info": {
   "file_extension": ".jl",
   "mimetype": "application/julia",
   "name": "julia",
   "version": "0.7.0"
  }
 },
 "nbformat": 4,
 "nbformat_minor": 2
}
