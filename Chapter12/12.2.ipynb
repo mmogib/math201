{
 "cells": [
  {
   "cell_type": "markdown",
   "metadata": {},
   "source": [
    "# 12.2 Vectors\n",
    "A __vector__ is used to indicate a quantity (such as displacement or velocity\n",
    "or force) that has both __magnitude__ and __direction__\n",
    "![Vector](./vectors.png)\n",
    "\n",
    "* ${\\bf V}=\\vec{AB}$\n",
    "* ${\\bf u}=\\vec{CD}$\n",
    "* ${\\bf v}, {\\bf u}$ are equivalent (equal). \n",
    "\n",
    "## Vector Addition\n",
    "![Vector Addition](./vector_addition.png)\n",
    "\n",
    "## Scalar Multiplication\n",
    "![Scalar Multiplication](./scalar_multiplication.png)\n",
    "\n",
    "* two nonzero vectors are __parallel__ if they are scalar multiples of one another.\n",
    "\n",
    "## Vector Difference\n",
    "![Vector Difference](./vector_difference.png)\n",
    "\n",
    "\n",
    "## Components\n",
    "Placing a vector $\\bf a$ in a rectangular coordinate system such that the initial point of $\\bf a$ at the origin, then the terminal point has coordinates of the form $( a_1, a_2, a_3)$.\n",
    "\n",
    "* These coordinates are called the __components__ of $\\bf a$ and we write \n",
    "$$\n",
    "{\\bf a} = \\langle a_1, a_2\\rangle, \\qquad {\\bf a} = \\langle a_1, a_2, a_2\\rangle\n",
    "$$\n",
    "* __representations__ of an algebraic vector ${\\bf a}=\\langle a_1, a_2\\rangle$. \n",
    "* __positive vector__\n",
    "* Given the points $A(x_1,y_1,z_1)$ and $B(x_2,y_2,z_3)$, the vector $\\bf a$ with representation $\\vec{AB}$ is\n",
    "$$\n",
    "{\\bf}a=\\langle x_2-x_1,y_2-y_1, z_2-z_1\\rangle\n",
    "$$\n",
    "* __magnitude__ or __length__ $|\\bf v|$, $\\|\\bf v\\|$\n",
    "\n",
    "## Properties of Vectors\n",
    "Let $V_n$ be the set of all $n-$dimensional vectors of the form \n",
    "$$\n",
    "{\\bf a} = \\langle a_1, a_2, \\cdots, a_n \\rangle \n",
    "$$ \n",
    "and let ${\\bf a}, {\\bf b}, {\\bf c} \\in V_n$ and $c, d $ scalars. Then\n",
    "\n",
    "1. ${\\bf a} + {\\bf b} = {\\bf b} + {\\bf a}$\n",
    "2. ${\\bf a} + ({\\bf b}+ {\\bf c}) = ({\\bf a}+ {\\bf b}) + {\\bf c}$\n",
    "3. ${\\bf a}+{\\bf 0} ={\\bf a}$\n",
    "4. ${\\bf a}+(-{\\bf a}) = {\\bf 0}$\n",
    "5. $c({\\bf a}+{\\bf b}) = c{\\bf a} + c{\\bf b}$\n",
    "6. $(cd){\\bf a}=c(d{\\bf a})$\n",
    "7. $1{\\bf a} ={\\bf a}$"
   ]
  },
  {
   "cell_type": "code",
   "execution_count": null,
   "metadata": {},
   "outputs": [],
   "source": []
  }
 ],
 "metadata": {
  "kernelspec": {
   "display_name": "Julia 0.7.0-rc3",
   "language": "julia",
   "name": "julia-0.7"
  },
  "language_info": {
   "file_extension": ".jl",
   "mimetype": "application/julia",
   "name": "julia",
   "version": "0.7.0"
  }
 },
 "nbformat": 4,
 "nbformat_minor": 2
}
