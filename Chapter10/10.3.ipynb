{
 "cells": [
  {
   "cell_type": "markdown",
   "metadata": {},
   "source": [
    "# 10.3 Polar Coordinates\n",
    "- A __coordinate system__ represents a point in the plane by an ordered pair of numbers called coordinates.\n",
    "- The __polar coordinate system__ is more convenient for many purposes.\n",
    " ![Polar system](./polar_system.png)\n",
    "- A point $P$ is represented by the ordered pair $(r, \\theta)$, where \n",
    "    - $r$ is the distance from the __pole__ (origin) $O$ to $P$\n",
    "    - $\\theta$ is the angle (usually measured in radians) between the polar axis and the line $OP$. \n",
    "- In the polar system, if $P(r,\\theta)$, then $r$ and $\\theta$ are called the __polar coordinates__ of $P$.\n",
    "\n",
    "## Remarks\n",
    "- If $P = O$, then $r = 0$ and we agree that $(0, \\theta )$ represents the pole for any value of $\\theta$.\n",
    "- We extend the meaning of polar coordinates $(r, \\theta )$ to the case in which $r$ is negative by agreeing that, as in Figure below, the points $(-r, \\theta )$ and $(r, \\theta )$ lie on the same line through $O$ and at the same distance $| r |$ from $O$, but on opposite sides of $O$. \n",
    "![Netagive r](./negative_r.png)\n",
    "\n",
    "## Polar and Cartesian Coordinates\n",
    "![Polar and Cartesian Coordinates](./polar_cartesian.png)\n",
    "- From polar to cartesian\n",
    "$$\n",
    "x = r \\cos\\theta, \\qquad y= r\\sin\\theta\n",
    "$$\n",
    "- From cartesian to polar\n",
    "$$\n",
    "r^2 = x^2 +y^2, \\qquad \\tan\\theta = \\frac{y}{x}\n",
    "$$"
   ]
  },
  {
   "cell_type": "markdown",
   "metadata": {},
   "source": [
    "## Example\n",
    "- represent the point with Cartesian coordinates $(1,-1)$ in polar coordinates.\n",
    "- Convert the point $(2, \\pi  /3)$ from polar to Cartesian coordinates"
   ]
  },
  {
   "cell_type": "markdown",
   "metadata": {},
   "source": [
    "## Polar curves\n",
    "The graph of a polar equation $r = f (\\theta)$, or more generally $F (r, \\theta ) = 0$, consists of all points $P$ that have at least one polar representation $(r, \\theta )$ whose coordinates satisfy the equation.\n"
   ]
  },
  {
   "cell_type": "markdown",
   "metadata": {},
   "source": [
    "## Examples\n",
    "- What curve is represented by the polar equation $r = 2$?\n",
    "- Sketch the polar curve $\\theta = 1$.\n",
    "- Sketch the curve $r = 1 + \\sin \\theta$. \n",
    "- Sketch the curve $r=\\sin 2\\theta$.\n",
    "\n"
   ]
  },
  {
   "cell_type": "markdown",
   "metadata": {},
   "source": [
    "## Symmetry\n",
    "- Symmetry with respect to the polar axis: if $\\theta$ is replaced by $-\\theta$. \n",
    " ![Symmetry about polar axis](./symm1.png)\n",
    "- Symmetry about the pole: if the equation is unchanged when \n",
    " - $r$ is replaced with $-r$,\n",
    " - $\\theta$ is replaced with $\\theta +\\pi$.\n",
    " ![Symmetry about pole](./symm2.png)\n",
    "- Symmetry about the line $\\theta=\\frac{\\pi}{2}$: if the equation is unchanged when $\\theta$ is replaced by $\\pi-\\theta$.\n",
    "![Symmetry about vertical line](./symm3.png)"
   ]
  },
  {
   "cell_type": "markdown",
   "metadata": {},
   "source": [
    "## Tangent to Polar Curves\n",
    "Let $r=f(\\theta)$. We regard $\\theta$ as a parameter and we write\n",
    "$$\n",
    "x= r\\cos\\theta = f(\\theta) \\cos\\theta, \\qquad y= r\\sin\\theta = g(\\theta) \\sin\\theta.\n",
    "$$\n",
    "So,\n",
    "$$\n",
    "\\frac{dy}{dx}=\\frac{\\frac{dy}{d\\theta}}{\\frac{dx}{d\\theta}}\n",
    "=\\frac{\\frac{dr}{d\\theta}\\sin\\theta + r\\cos\\theta}{\\frac{dr}{d\\theta}\\cos\\theta -r \\sin\\theta}\n",
    "$$"
   ]
  },
  {
   "cell_type": "markdown",
   "metadata": {},
   "source": [
    "## Example\n",
    "For the cardiod $r=1+\\sin\\theta$.\n",
    "1. Find the slope of the tangent line when $\\theta=\\pi/3$.\n",
    "2. Find the points on the curve where the tangent line is horizontal or vertical."
   ]
  },
  {
   "cell_type": "code",
   "execution_count": null,
   "metadata": {},
   "outputs": [],
   "source": []
  }
 ],
 "metadata": {
  "kernelspec": {
   "display_name": "Julia 0.6.2",
   "language": "julia",
   "name": "julia-0.6"
  },
  "language_info": {
   "file_extension": ".jl",
   "mimetype": "application/julia",
   "name": "julia",
   "version": "0.6.2"
  }
 },
 "nbformat": 4,
 "nbformat_minor": 2
}
