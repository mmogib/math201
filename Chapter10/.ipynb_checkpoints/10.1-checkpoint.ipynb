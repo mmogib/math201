{
 "cells": [
  {
   "cell_type": "markdown",
   "metadata": {
    "slideshow": {
     "slide_type": "slide"
    }
   },
   "source": [
    "# 10.1 Curves Defined by Parametric Equations\n",
    "\n",
    "Suppose that $x$ and $y$ are both given as functions of a third variable (called a __parameter__) by the equations\n",
    "$$\n",
    "x=f(t), \\qquad y=g(t).\n",
    "$$\n",
    "These functions are called __parametric equations__.\n",
    "\n",
    "* As $t$ varies, the point $(x,y)=\\left(f(t),g(t)\\right)$ varies and traces out a\n",
    "curve $C$, which we call a __parametric curve__. \n",
    "* The parameter t does not necessarily represent time."
   ]
  },
  {
   "cell_type": "markdown",
   "metadata": {
    "slideshow": {
     "slide_type": "slide"
    }
   },
   "source": [
    "## Example 1: \n",
    "Sketch and identify the curve defined by the parametric equations\n",
    "$$\n",
    "x=t^2-2t, \\qquad y=t+1.\n",
    "$$"
   ]
  },
  {
   "cell_type": "code",
   "execution_count": 4,
   "metadata": {
    "slideshow": {
     "slide_type": "slide"
    }
   },
   "outputs": [
    {
     "data": {
      "image/png": "[encoded data removed]",
      "text/plain": [
       "<matplotlib.figure.Figure at 0x907a550>"
      ]
     },
     "metadata": {},
     "output_type": "display_data"
    },
    {
     "data": {
      "text/plain": [
       "<sympy.plotting.plot.Plot at 0x90aa630>"
      ]
     },
     "execution_count": 4,
     "metadata": {},
     "output_type": "execute_result"
    }
   ],
   "source": [
    "from sympy import symbols\n",
    "from sympy.plotting import plot_parametric\n",
    "t = symbols('t', real=True)\n",
    "x=t**2-2*t\n",
    "y=t+1\n",
    "plot_parametric(x,y,(t,-10,10))\n"
   ]
  },
  {
   "cell_type": "markdown",
   "metadata": {
    "slideshow": {
     "slide_type": "slide"
    }
   },
   "source": [
    "## In general,\n",
    "The curve with parametric equations\n",
    "$$\n",
    "x=f(t), \\qquad y=g(t), \\qquad a\\leq t \\leq b\n",
    "$$\n",
    "has __initial point__ $(f(a),g(a))$ and __terminal point__ $(f(b),g(b))$"
   ]
  },
  {
   "cell_type": "markdown",
   "metadata": {
    "slideshow": {
     "slide_type": "slide"
    }
   },
   "source": [
    "## Example 2: \n",
    "$$ \n",
    "x=\\cos t, \\qquad y=\\sin t, \\qquad 0\\leq t \\leq 2\\pi\n",
    "$$"
   ]
  },
  {
   "cell_type": "markdown",
   "metadata": {
    "slideshow": {
     "slide_type": "slide"
    }
   },
   "source": [
    "## Example 3: \n",
    "$$ \n",
    "x=\\cos 2t, \\qquad y=\\sin 2t, \\qquad 0\\leq t \\leq 2\\pi\n",
    "$$"
   ]
  },
  {
   "cell_type": "markdown",
   "metadata": {},
   "source": [
    "## Remark\n",
    "* A __curve__ is a set of points.\n",
    "* A __parametric curve__ is a set of points where those points are traced in a prticular way."
   ]
  },
  {
   "cell_type": "code",
   "execution_count": null,
   "metadata": {},
   "outputs": [],
   "source": []
  }
 ],
 "metadata": {
  "kernelspec": {
   "display_name": "Python 3",
   "language": "python",
   "name": "python3"
  },
  "language_info": {
   "codemirror_mode": {
    "name": "ipython",
    "version": 3
   },
   "file_extension": ".py",
   "mimetype": "text/x-python",
   "name": "python",
   "nbconvert_exporter": "python",
   "pygments_lexer": "ipython3",
   "version": "3.6.4"
  }
 },
 "nbformat": 4,
 "nbformat_minor": 2
}
