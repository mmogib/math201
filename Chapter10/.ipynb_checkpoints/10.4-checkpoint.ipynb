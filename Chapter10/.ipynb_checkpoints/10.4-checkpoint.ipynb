{
 "cells": [
  {
   "cell_type": "markdown",
   "metadata": {},
   "source": [
    "# 10.4 Areas and Lengths in Polar Coordinates\n",
    "The area of the region $\\mathcal{R}$ in the following figure \n",
    "![Area in polar Coordinates](./area.png)\n",
    "is given by the formula\n",
    "$$\n",
    "A = \\int_{a}^{b}\\frac{1}{2}\\left[f(\\theta)\\right]^2 d\\theta.\n",
    "$$"
   ]
  },
  {
   "cell_type": "markdown",
   "metadata": {},
   "source": [
    "## Example 1:\n",
    "Find the area enclosed by one loop of the four-leaved rose $r=\\cos 2\\theta$.\n",
    "\n",
    "__SOLUTION IN CLASS__"
   ]
  },
  {
   "cell_type": "markdown",
   "metadata": {},
   "source": [
    "## Example 2\n",
    "Find the area of the region that lies inside the circle $r=3\\sin\\theta$ and outside\n",
    "the cardioid $r=1+\\sin\\theta$.\n",
    "\n",
    "__SOLUTION IN CLASS__"
   ]
  },
  {
   "cell_type": "markdown",
   "metadata": {},
   "source": [
    "## Example 3:\n",
    "Find all points of intersection of the curves $r=\\cos 2\\theta$ and $r=\\frac{1}{2}$.\n",
    "\n",
    "__SOLUTION IN CLASS__"
   ]
  },
  {
   "cell_type": "markdown",
   "metadata": {},
   "source": [
    "## Arc Length\n",
    "The arc length of a curve with polar equation $r=f(\\theta), a\\leq \\theta\\leq b$ is\n",
    "$$\n",
    "L=\\int_a^b\\sqrt{r^2+\\left(\\frac{dr}{d\\theta}\\right)^2}d\\theta\n",
    "$$"
   ]
  },
  {
   "cell_type": "markdown",
   "metadata": {},
   "source": [
    "## Example 4:\n",
    "Find the length of the cardioid $r=1+\\sin\\theta$.\n",
    "__SOLUTION IN CLASS__"
   ]
  }
 ],
 "metadata": {
  "kernelspec": {
   "display_name": "Julia 0.7.0-rc3",
   "language": "julia",
   "name": "julia-0.7"
  },
  "language_info": {
   "file_extension": ".jl",
   "mimetype": "application/julia",
   "name": "julia",
   "version": "0.7.0"
  }
 },
 "nbformat": 4,
 "nbformat_minor": 2
}
