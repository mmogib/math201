{
 "cells": [
  {
   "cell_type": "markdown",
   "metadata": {},
   "source": [
    "# 10.3 Polar Coordinates\n",
    "- A __coordinate system__ represents a point in the plane by an ordered pair of numbers called coordinates.\n",
    "- The __polar coordinate system__ is more convenient for many purposes.\n",
    " ![Polar system](./polar_system.png)\n",
    "- A point $P$ is represented by the ordered pair $(r, \\theta)$, where \n",
    "    - $r$ is the distance from the __pole__ (origin) $O$ to $P$\n",
    "    - $\\theta$ is the angle (usually measured in radians) between the polar axis and the line $OP$. \n",
    "- In the polar system, if $P(r,\\theta)$, then $r$ and $\\theta$ are called the __polar coordinates__ of $P$.\n",
    " \n",
    "    "
   ]
  },
  {
   "cell_type": "code",
   "execution_count": null,
   "metadata": {},
   "outputs": [],
   "source": []
  }
 ],
 "metadata": {
  "kernelspec": {
   "display_name": "Julia 0.6.2",
   "language": "julia",
   "name": "julia-0.6"
  },
  "language_info": {
   "file_extension": ".jl",
   "mimetype": "application/julia",
   "name": "julia",
   "version": "0.6.2"
  }
 },
 "nbformat": 4,
 "nbformat_minor": 2
}
