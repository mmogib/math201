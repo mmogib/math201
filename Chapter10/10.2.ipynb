{
 "cells": [
  {
   "cell_type": "markdown",
   "metadata": {
    "slideshow": {
     "slide_type": "slide"
    }
   },
   "source": [
    "# 10.2 Calculus with Parametic Curves\n",
    "\n",
    "## Tangents\n",
    "Conisder the parametric equations \n",
    "$$\n",
    "x=f(t), \\qquad y=g(t)\n",
    "$$\n",
    "and suppose that $f$ and $g$ are differentiable functions. Then\n",
    "$$\n",
    "\\frac{dy}{dt} = \\frac{dy}{dx}\\cdot \\frac{dx}{dt}\n",
    "$$\n",
    "If $dx/dt \\not = 0$, then\n",
    "$$\n",
    "\\frac{dy}{dx} =\\frac{\\frac{dy}{dt}}{\\frac{dx}{dt}}.\n",
    "$$\n",
    "Also,\n",
    "$$\n",
    "\\frac{d^2y}{dx^2} =\\frac{\\frac{d^2y}{dtdx}}{\\frac{dx}{dt}}.\n",
    "$$\n"
   ]
  },
  {
   "cell_type": "markdown",
   "metadata": {
    "slideshow": {
     "slide_type": "slide"
    }
   },
   "source": [
    "## Example 1\n",
    "A curve $C$ is defined by the parametric equations $x=t^2, y=t^3-3t$.,\n",
    "\n",
    "1. Show that has two tangents at the point (3, 0) and find their equations.\n",
    "2. Find the points on $C$ where the tangent is horizontal or vertical.\n",
    "3. Determine where the curve is concave upward or downward.\n",
    "4. Sketch the curve.\n",
    "\n",
    "__SOLUTION IN CLASS__"
   ]
  },
  {
   "cell_type": "markdown",
   "metadata": {},
   "source": [
    "## Example 2\n",
    "Conisder the cycloid $x=r(\\theta-\\sin\\theta), \\quad y=r(1-\\cos\\theta)$.\n",
    "1. Find the tangent at the point where $\\theta=\\frac{\\theta}{3}$.\n",
    "2. At what points is the tangent horizontal? When is it vertical?\n",
    "\n",
    "__SOLUTION IN CLASS__"
   ]
  },
  {
   "cell_type": "markdown",
   "metadata": {},
   "source": [
    "## Area \n",
    "Conisder the parametric equations \n",
    "$$\n",
    "x=f(t), \\qquad y=g(t), \\qquad \\alpha \\leq t \\leq \\beta\n",
    "$$\n",
    "Then \n",
    "$$\n",
    "A = \\int_a^b y dx = \\int_{\\alpha}^{\\beta} g(t) f'(t) dt \\text{ or } \\left( \\int^{\\alpha}_{\\beta} g(t) f'(t) dt\\right)\n",
    "$$"
   ]
  },
  {
   "cell_type": "markdown",
   "metadata": {},
   "source": [
    "## Example 3\n",
    "Find the area under one arch of the cycloid\n",
    "$$\n",
    "x=r(\\theta-\\sin\\theta), \\quad y=r(1-\\cos\\theta)\n",
    "$$\n",
    "__SOLUTION IN CLASS__"
   ]
  },
  {
   "cell_type": "markdown",
   "metadata": {},
   "source": [
    "## Arc Length\n",
    "The length $L$ of a parametric curve $C$ given by\n",
    "$$\n",
    "x= f(t), \\qquad y=g(t), \\quad \\alpha \\leq t\\leq \\beta \\quad \\text{and} \\quad \\frac{dx}{dt}=f'(t)>0\n",
    "$$\n",
    "is given by\n",
    "$$\n",
    "L=\\int_{\\alpha}^{\\beta} \\sqrt{\\left(\\frac{dx}{dt}\\right)^2 + \\left(\\frac{dy}{dt}\\right)^2} dt.\n",
    "$$\n",
    "\n",
    "### Note:\n",
    "- $f'$ and $g'$ are continuous.\n",
    "- $C$ is traversed exactly once."
   ]
  },
  {
   "cell_type": "markdown",
   "metadata": {},
   "source": [
    "## Example 5\n",
    "Find the length of one arch of the cycloid\n",
    "$$\n",
    "x=r\\left(\\theta - \\sin\\theta\\right), \\qquad y=r\\left(1 - \\cos\\theta\\right)\n",
    "$$\n",
    "__SOLUTION IN CLASS__"
   ]
  },
  {
   "cell_type": "markdown",
   "metadata": {},
   "source": [
    "## Surface Area\n",
    "The area of the surface $S$ resulting from rotating the parametric curve $C$ given by\n",
    "$$\n",
    "x= f(t), \\qquad y=g(t), \\quad \\alpha \\leq t\\leq \\beta \\quad \\text{and} \\quad \\frac{dx}{dt}=f'(t)>0, , \\quad y\\geq 0 \n",
    "$$\n",
    "about $x-$axis is given by\n",
    "$$\n",
    "L=\\int_{\\alpha}^{\\beta} 2 \\pi y \\sqrt{\\left(\\frac{dx}{dt}\\right)^2 + \\left(\\frac{dy}{dt}\\right)^2} dt.\n",
    "$$"
   ]
  },
  {
   "cell_type": "markdown",
   "metadata": {},
   "source": [
    "## Example (ex 57)\n",
    "Set up the integral that gives the area of the surface obtained by rotating the following curve about $x-$axis\n",
    "$$\n",
    "x=t\\sin t, \\quad y= t\\cos t, \\quad 0\\leq t\\leq \\pi/2. \n",
    "$$"
   ]
  },
  {
   "cell_type": "code",
   "execution_count": 1,
   "metadata": {},
   "outputs": [
    {
     "data": {
      "image/png": "[encoded data removed]",
      "text/latex": [
       "$$4.73940550662329$$"
      ],
      "text/plain": [
       "4.73940550662329"
      ]
     },
     "execution_count": 1,
     "metadata": {},
     "output_type": "execute_result"
    }
   ],
   "source": [
    "from sympy import Integral, cos, symbols, init_printing, pi, sqrt\n",
    "init_printing()\n",
    "t = symbols('t', real=True)\n",
    "S=Integral(2*pi*t*cos(t)*sqrt(1+t**2), (t,0,pi/2))\n",
    "S.n()"
   ]
  },
  {
   "cell_type": "code",
   "execution_count": null,
   "metadata": {},
   "outputs": [],
   "source": []
  }
 ],
 "metadata": {
  "celltoolbar": "Slideshow",
  "kernelspec": {
   "display_name": "Python 3",
   "language": "python",
   "name": "python3"
  },
  "language_info": {
   "codemirror_mode": {
    "name": "ipython",
    "version": 3
   },
   "file_extension": ".py",
   "mimetype": "text/x-python",
   "name": "python",
   "nbconvert_exporter": "python",
   "pygments_lexer": "ipython3",
   "version": "3.6.3"
  }
 },
 "nbformat": 4,
 "nbformat_minor": 2
}
