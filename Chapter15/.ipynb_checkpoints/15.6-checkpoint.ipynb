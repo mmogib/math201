{
 "cells": [
  {
   "cell_type": "markdown",
   "metadata": {},
   "source": [
    "#  Triple Integrals\n",
    "We integrate over __rectangular box_\n",
    "\n",
    "$$\n",
    "B=\\left\\{ (x,y,z)\\;\\;|\\;\\; a\\leq x\\leq b,\\;c\\leq y\\leq d,\\;r\\leq z\\leq s,\\right\\}\n",
    "$$\n",
    "![15.6.a](./15-6-a.png)\n",
    "\n",
    "Then we form the triple __Riemann sum__\n",
    "![15.6.a](./15-6-b.png)\n",
    "\n",
    "where the sample point $(x^*_{ijk},y^*_{ijk},z^*_{ijk})$    is in $B_{ijk}$"
   ]
  },
  {
   "cell_type": "markdown",
   "metadata": {},
   "source": [
    "![definition](./15-6-c.png)"
   ]
  },
  {
   "cell_type": "markdown",
   "metadata": {},
   "source": [
    "![Fubini's](./15-6-d.png)"
   ]
  },
  {
   "cell_type": "markdown",
   "metadata": {},
   "source": [
    "### Example\n",
    "Evaluate the triple integral $\\iiint_B xyz^2 dV$, where $B$ is the rectangular box given by\n",
    "\n",
    "$$\n",
    "B = \\left\\{(x, y, z) \\;\\;|\\;\\; 0 \\leq x \\leq 1,\\; –1 \\leq y \\leq 2,\\; 0 \\leq z \\leq 3\\right\\}\n",
    "$$"
   ]
  },
  {
   "cell_type": "code",
   "execution_count": null,
   "metadata": {},
   "outputs": [],
   "source": []
  }
 ],
 "metadata": {
  "kernelspec": {
   "display_name": "Julia 1.0.0",
   "language": "julia",
   "name": "julia-1.0"
  },
  "language_info": {
   "file_extension": ".jl",
   "mimetype": "application/julia",
   "name": "julia",
   "version": "1.0.0"
  }
 },
 "nbformat": 4,
 "nbformat_minor": 2
}
