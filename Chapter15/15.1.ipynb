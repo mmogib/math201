{
 "cells": [
  {
   "cell_type": "markdown",
   "metadata": {},
   "source": [
    "# 15.1 Double Integrals over Rectangles \n",
    "\n",
    "Recall\n",
    "![Definite Integral](./15-1-a.png)\n",
    "\n",
    "## Volumes and Double Integrals\n",
    "![Double Integral 1](./15-1-b.png)\n",
    "Consider\n",
    "$$\n",
    "z = f(x,y)\n",
    "$$\n",
    "$$\n",
    "R = [a,b] \\times [c, d] = \\left\\{ (x,y)\\in \\mathbb{R}| a\\leq x\\leq b, c\\leq y\\leq d \\right\\} \n",
    "$$\n",
    "\n",
    "and let $S$ be the solid that lies above $R$ and under the graph of $f$\n",
    "\n",
    "### Divide $R$ into subrectangles of equal area\n",
    "* Let $\\Delta x = \\frac{b-a}{n}$, $\\Delta y = \\frac{d-c}{m}$\n",
    "giving $mn$ subrectangles, $R_{ij}$\n",
    "$$\n",
    "R_{ij} = [x_{i-1},x_i]\\times [y_{i-1}, y_j]= \\left\\{ (x,y)| x_{i-1}\\leq x\\leq x_i, y_{j-1}\\leq y\\leq y_j \\right\\} \n",
    "$$\n",
    "Each of area \n",
    "$$\n",
    "\\Delta A = \\Delta x \\Delta y\n",
    "$$\n",
    "![Double Integral 2](./15-1-c.png)\n",
    "\n",
    "* choose __sample points__ $(x^*_{ij}, y^*_{ij})$ in each $R_{ij}$ \n",
    "* we can approximate the part of $S$ that lies above each $R_{ij}$ by \n",
    "$$\n",
    "f(x^*_{ij}, y^*_{ij})\\Delta A\n",
    "$$\n",
    "![Double Integral 2](./15-1-d.png)\n",
    "\n",
    "* Then \n",
    "$$\n",
    "V\\approx \\sum_{i=1}^m \\sum_{j=1}^n f(x^*_{ij}, y^*_{ij})\\Delta A\n",
    "$$\n",
    "![Double Integral 2](./15-1-e.png)\n",
    "\n",
    "* We therefore expect\n",
    "$$\n",
    "V = \\lim_{n,m\\to \\infty } \\sum_{i=1}^m \\sum_{j=1}^n f(x^*_{ij}, y^*_{ij})\\Delta A\n",
    "$$\n",
    "\n",
    "![Double Integral 2](./15-1-f.png)\n",
    "\n",
    "### Remark \n",
    "* $f$ is called __integrable__ if the limits exists.\n",
    "* if the $f$ is integrable, then the sample point $(x^*_{ij}, y^*_{ij})$ can be chosen to be any point in the subrectangle $R_{ij}$, so we may choose the upper right-hand corner of $R_{ij}$ and we have \n",
    "$$\n",
    "\\iint_{R} f(x,y) dA =  \\lim_{n,m\\to \\infty } \\sum_{i=1}^m \\sum_{j=1}^n f(x_{ij}, y_{ij})\\Delta A\n",
    "$$\n",
    "* Please note \n",
    "![Double Integral 2](./15-1-g.png)\n",
    "\n",
    "\n",
    "### Example\n",
    "Estimate the volume of the solid that lies above the square $R = [0, 2] \\times [0, 2]$ and below the elliptic paraboloid $z = 16 - x^2 - 2y^2$. Divide $R$ into four equal squares and choose the sample point to be the upper right corner of each square $Rij$. Sketch the solid and the approximating rectangular boxes.\n",
    "\n",
    "__Solution__: \n",
    "![Double Integral 2](./15-1-h.png)\n",
    "\n",
    "![Double Integral 2](./15-1-i.png)\n",
    "\n",
    "### Example \n",
    "If $R = [-1,1] \\times [-2, 2] $, evaluate \n",
    "$$\n",
    "\\iint_{R}\\sqrt{1-x^2} dA\n",
    "$$\n",
    "\n",
    "## The Midpoint Rule\n",
    "![Double Integral 2](./15-1-j.png)\n",
    "\n",
    "### Example\n",
    "Use the Midpoint Rule with $m = n = 2$ to estimate the value of the integral \n",
    "$$\n",
    "\\iint_{R}(x - 3y^2) dA,\n",
    "$$\n",
    "where\n",
    "$R = \\left\\{(x, y) | 0 \\leq x \\leq 2 , 1 \\leq y \\leq 2\\right\\}$.\n"
   ]
  },
  {
   "cell_type": "code",
   "execution_count": 3,
   "metadata": {},
   "outputs": [
    {
     "data": {
      "text/plain": [
       "-11.875"
      ]
     },
     "execution_count": 3,
     "metadata": {},
     "output_type": "execute_result"
    }
   ],
   "source": [
    "f(x,y)=x-3y^2\n",
    "x=0:1:2\n",
    "y=1:0.5:2\n",
    "mx=0.5:1:1.5\n",
    "my=1.25:0.5:1.75\n",
    "ΔA=0.5\n",
    "mesh= sum([f(i,j)ΔA for i in mx, j in my])"
   ]
  },
  {
   "cell_type": "code",
   "execution_count": null,
   "metadata": {},
   "outputs": [],
   "source": [
    "\n",
    "\n",
    "\n",
    "\n",
    "\n",
    "\n",
    "\n",
    "\n",
    "\n",
    "\n",
    "\n",
    "\n",
    "\n",
    "\n",
    "\n"
   ]
  }
 ],
 "metadata": {
  "kernelspec": {
   "display_name": "Julia 1.0.0",
   "language": "julia",
   "name": "julia-1.0"
  },
  "language_info": {
   "file_extension": ".jl",
   "mimetype": "application/julia",
   "name": "julia",
   "version": "1.0.0"
  }
 },
 "nbformat": 4,
 "nbformat_minor": 2
}
