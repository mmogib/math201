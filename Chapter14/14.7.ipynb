{
 "cells": [
  {
   "cell_type": "markdown",
   "metadata": {},
   "source": [
    "# 14.7 Maximum and Minimum Values\n",
    "\n",
    "![Extrma](./local_extrema.png)\n",
    "\n",
    "![Definition](./extrema_def.png)\n",
    "\n",
    "![Theorem](./extrema_th.png)\n",
    "\n",
    "\n",
    "## Definition\n",
    "A point $(a, b)$ is called a __critical point__ (or __stationary point__)  of $f$ if $f_x(a, b) = 0$ and $f_y(a, b) = 0$, or if one of these partial derivatives does not exist. \n",
    "\n",
    "### Example\n",
    "$$\n",
    "f(x,y) = x^2+y^2-2x-6y +14\n",
    "$$"
   ]
  },
  {
   "cell_type": "code",
   "execution_count": null,
   "metadata": {},
   "outputs": [],
   "source": []
  }
 ],
 "metadata": {
  "kernelspec": {
   "display_name": "Julia 1.0.0",
   "language": "julia",
   "name": "julia-1.0"
  },
  "language_info": {
   "file_extension": ".jl",
   "mimetype": "application/julia",
   "name": "julia",
   "version": "1.0.0"
  }
 },
 "nbformat": 4,
 "nbformat_minor": 2
}
