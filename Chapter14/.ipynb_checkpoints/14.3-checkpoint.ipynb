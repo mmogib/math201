{
 "cells": [
  {
   "attachments": {},
   "cell_type": "markdown",
   "metadata": {},
   "source": [
    "# 14.3 Partial Derivatives\n",
    "\n",
    "## Definition\n",
    "![Partial Derivative](./partial_def.png)\n",
    "\n",
    "![Notation](./partial_notation.png)\n",
    "\n",
    "![Rules](./partial_rules.png)\n",
    "\n",
    "## Interpretations of Partial Derivatives\n",
    "![Interpretation](./partial_interpretation.png)\n",
    "\n",
    "### Example\n",
    "If $f(x,y)=4-x^2-2y^2$, find $f_x(1,1)$ and $f_y(1,1)$ and interpret these numbers as slopes."
   ]
  },
  {
   "cell_type": "code",
   "execution_count": null,
   "metadata": {},
   "outputs": [],
   "source": []
  }
 ],
 "metadata": {
  "kernelspec": {
   "display_name": "Python 3",
   "language": "python",
   "name": "python3"
  },
  "language_info": {
   "codemirror_mode": {
    "name": "ipython",
    "version": 3
   },
   "file_extension": ".py",
   "mimetype": "text/x-python",
   "name": "python",
   "nbconvert_exporter": "python",
   "pygments_lexer": "ipython3",
   "version": "3.6.4"
  }
 },
 "nbformat": 4,
 "nbformat_minor": 2
}
