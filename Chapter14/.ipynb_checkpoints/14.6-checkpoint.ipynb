{
 "cells": [
  {
   "cell_type": "markdown",
   "metadata": {},
   "source": [
    "# 14.6 Directional Derivatives and the Gradient Vector\n",
    "\n",
    "__[Illustration](https://www.geogebra.org/m/Trws2PBm)__\n",
    "\n",
    "![Directional Derovatove](./directional_derivative.png)\n",
    "\n",
    "### Remarks\n",
    "1. $D_{\\bf i}f=f_x, D_{\\bf j}f=f_y, $\n",
    "\n",
    "![Theorem](./directional_derivative_theorem.png)\n",
    "\n",
    "### Example\n",
    "Find the directional derivative $D_{\\bf u}f(x,y)$ if \n",
    "$$\n",
    "f(x,y) = x^3-3xy+4y^2\n",
    "$$\n",
    "and $\\bf u$ is the unit vector given by angle $\\theta={\\pi \\over 6}$. What is $D_{\\bf u}f(1,2)?$\n",
    "\n",
    "# The Gradient Vector\n",
    "![Gradient Vector](./gradient_vector.png)\n",
    "\n",
    "### Remark\n",
    "$$\n",
    "D_{\\bf u} f(x,y)= \\nabla f(x,y)\\cdot {\\bf u}\n",
    "$$\n",
    "### Example\n",
    "Find the directional derivative of the function $f(x,y)=x^2y^3-4y$ at the point $(2,-1)$ in the direction of the vector ${\\bf v}=2{\\bf i}+5{\\bf j}$.\n",
    "__SOLUTION IN CLASS__\n",
    "\n",
    "## Functions of the Three Variables\n",
    "\n",
    "![Directional Derivative in 3 variables](./directional_derivative_3d.png)\n",
    "\n",
    "### Example\n",
    "If $f (x, y, z) = x \\sin yz$, \n",
    "\n",
    "(a) find the gradient of $f$ and \n",
    "\n",
    "(b) find the directional derivative of $f$ at $(1, 3, 0)$ in the direction of ${\\bf v} = i + 2 j – k$.\n",
    "\n",
    "## Maximizing the Directional Derivative\n",
    "![Maximizing the Directional Derivative](./directional_derivative_max.png)\n",
    "\n",
    "### Example\n",
    "(a) If $f(x, y) = xe^y$, find the rate of change of f at the point $P(2, 0)$ in the direction from $P$ to $Q({1 \\over 2},2)$.\n",
    "\n",
    "(b) In what direction does $f$ have the maximum rate of change? What is this maximum rate of change?\n",
    "\n"
   ]
  },
  {
   "cell_type": "code",
   "execution_count": null,
   "metadata": {},
   "outputs": [],
   "source": []
  }
 ],
 "metadata": {
  "kernelspec": {
   "display_name": "Julia 1.0.0",
   "language": "julia",
   "name": "julia-1.0"
  },
  "language_info": {
   "name": ""
  }
 },
 "nbformat": 4,
 "nbformat_minor": 2
}
