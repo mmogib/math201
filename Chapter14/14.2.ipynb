{
 "cells": [
  {
   "cell_type": "markdown",
   "metadata": {},
   "source": [
    "# 14.3 Limits and Continuity\n",
    "\n",
    "\n",
    "![Limit Def](./limit_def.png)\n",
    "\n",
    "![Limit Def Fig](./limit_def_fig1.png)\n",
    "\n",
    "\n",
    "![Limit Def Fig](./limit_def_fig2.png)\n",
    "\n",
    "\n",
    "![Theorem](./two_paths_th.png)\n",
    "\n",
    "\n",
    "### Example \n",
    "Show that the limit does not exist\n",
    "$$\n",
    "\\lim_{(x,y)\\to (0,0)}{\\frac{x^2-y^2}{x^2+y^2}}\n",
    "$$\n",
    "\n",
    "\n",
    "### Example \n",
    "Does the limit exist?\n",
    "$$\n",
    "\\lim_{(x,y)\\to (0,0)}{\\frac{xy^2}{x^2+y^4}}\n",
    "$$\n",
    "\n",
    "\n",
    "## Remarks\n",
    "1. Limit of sum is sum of limits.\n",
    "2. Limit of product is product of limits. \n",
    "3. Limit of quotient is quotient of limits (provided the denominator does not vanish near the point). \n",
    "4. $\\lim_{(x,y)\\to (a,b)}{x} =a$\n",
    "5. $\\lim_{(x,y)\\to (a,b)}{y} =b$\n",
    "6. $\\lim_{(x,y)\\to (a,b)}{c} =c$\n",
    "7. Squeeze theorem holds\n",
    "\n",
    "\n",
    "\n",
    "### Example \n",
    "Does the limit exist?\n",
    "$$\n",
    "\\lim_{(x,y)\\to (0,0)}{\\frac{3x^2y}{x^2+y^2}}\n",
    "$$\n",
    "\n",
    "\n"
   ]
  },
  {
   "cell_type": "code",
   "execution_count": 34,
   "metadata": {},
   "outputs": [
    {
     "data": {
      "text/plain": [
       "8×7 Array{Float64,2}:\n",
       " -1.0       -0.7       -0.4       -0.1       0.2       0.5       0.8     \n",
       "  0.454649   0.668952   0.790348   0.838447  0.829235  0.759188  0.608297\n",
       "  0.668952   0.847446   0.931056   0.958851  0.953836  0.9112    0.800365\n",
       "  0.790348   0.931056   0.983021   0.99519   0.993347  0.972218  0.896695\n",
       "  0.838447   0.958851   0.99519    0.999933  0.999583  0.988771  0.931056\n",
       "  0.829235   0.953836   0.993347   0.999583  0.998934  0.986042  0.924696\n",
       "  0.759188   0.9112     0.972218   0.988771  0.986042  0.958851  0.873114\n",
       "  0.608297   0.800365   0.896695   0.931056  0.924696  0.873114  0.74845 "
      ]
     },
     "execution_count": 34,
     "metadata": {},
     "output_type": "execute_result"
    }
   ],
   "source": [
    "f(x,y) =  sin(x^2+y^2)/(x^2+y^2)\n",
    "x=-1:0.3:1\n",
    "y=-1:0.3:1\n",
    "\n",
    "T=[[i for i in x]';[f(i,j) for i in x, j in y]]"
   ]
  },
  {
   "cell_type": "markdown",
   "metadata": {},
   "source": [
    "## Continuity\n",
    "\n",
    "![Continuity](./continuity.png)\n",
    "\n",
    "### Remarks\n",
    "1. Polynomials in $(x,y)$ (sum of terms of the form $c x^my^n$) are continuous.\n",
    "2. Rational functins are continuous on their domains.\n",
    "3. if $f$ is a continuous function of two variables and $g$ is a continuous function of a single variable that is defined on the range of $f$, then the composite function $h = g \\circ f$ defined by $h (x, y) = g (f (x, y))$ is also a continuous function. (exp. $\\tan^{-1}(y/x)$)\n",
    "\n",
    "### Functions of Three or More Variables\n",
    "Everything that we have done in this section can be extended to functions of three or more variables.\n",
    "\n",
    "### Questions\n",
    "Give examples of polynomials and rational functions.\n",
    "\n",
    "### Exercises\n",
    "Determine the points where the functions are continuous\n",
    "1. $\\ln(x^2+y^2-4)$.\n",
    "2. $$f(x,y)=\\left\\{\\begin{array}{ll} \n",
    "    \\frac{x^2y^3}{2x^2+y^2} & \\text{if} \\quad (x,y)\\not= (0,0) \\\\\n",
    "        1 & \\text{if} \\quad (x,y)= (0,0) \n",
    "\\end{array}\\right.$$\n",
    "\n",
    "\n",
    "### Remark\n",
    "__Polar Coordinates__ can be used to evaluate limits. \n",
    "If $(r,\\theta)$ are polar coordinates of the point $(x,y)$ with $r\\geq 0$, then \n",
    "$$\n",
    "r\\to 0^+ \\qquad {as} \\qquad (x,y)\\to (0,0)\n",
    "$$\n",
    "\n",
    "### Exercise\n",
    "Find the limit \n",
    "$$\n",
    "\\lim_{(x,y)\\to (0,0)}{(x^2+y^2)\\ln(x^2+y^2)}\n",
    "$$"
   ]
  },
  {
   "cell_type": "code",
   "execution_count": 2,
   "metadata": {},
   "outputs": [],
   "source": [
    "using Calculus"
   ]
  },
  {
   "cell_type": "code",
   "execution_count": null,
   "metadata": {},
   "outputs": [],
   "source": []
  }
 ],
 "metadata": {
  "kernelspec": {
   "display_name": "Julia 1.0.0",
   "language": "julia",
   "name": "julia-1.0"
  },
  "language_info": {
   "file_extension": ".jl",
   "mimetype": "application/julia",
   "name": "julia",
   "version": "1.0.0"
  }
 },
 "nbformat": 4,
 "nbformat_minor": 2
}
